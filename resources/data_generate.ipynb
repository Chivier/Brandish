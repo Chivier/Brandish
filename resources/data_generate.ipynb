{
 "metadata": {
  "language_info": {
   "codemirror_mode": {
    "name": "ipython",
    "version": 3
   },
   "file_extension": ".py",
   "mimetype": "text/x-python",
   "name": "python",
   "nbconvert_exporter": "python",
   "pygments_lexer": "ipython3",
   "version": "3.8.5-final"
  },
  "orig_nbformat": 2,
  "kernelspec": {
   "name": "python3",
   "display_name": "Python 3.8.5 64-bit ('venv')",
   "metadata": {
    "interpreter": {
     "hash": "56b48a58afbf0cd0e375a6be1a69584e5f696a47099457146ad3aeed8f729cf9"
    }
   }
  }
 },
 "nbformat": 4,
 "nbformat_minor": 2,
 "cells": [
  {
   "cell_type": "code",
   "execution_count": 27,
   "metadata": {},
   "outputs": [],
   "source": [
    "# Import packages\n",
    "import elevation\n",
    "import netCDF4 as nc4\n",
    "import numpy as np\n",
    "import rasterio\n",
    "import math\n",
    "\n",
    "# Set grid size\n",
    "final_grid_x = 1000\n",
    "final_grid_y = 1000\n",
    "\n",
    "# Set target map\n",
    "target_x_1 = 117.8\n",
    "target_x_2 = 118\n",
    "target_y_1 = 30.5\n",
    "target_y_2 = 30.7\n",
    "\n",
    "# Step length\n",
    "x_step_length = (target_x_2 - target_x_1) / final_grid_x\n",
    "y_setp_length = (target_y_2 - target_y_1) / final_grid_y\n",
    "\n",
    "# Download elevation data\n",
    "elevation.clip(bounds=(117.8, 30.5, 118, 30.7), output='data.tif')\n",
    "\n",
    "# Load elevation data\n",
    "elevation_dataset = rasterio.open('data.tif')\n",
    "elevation_data = elevation_dataset.read(1)\n",
    "\n",
    "# Read filling data\n",
    "filling_dataset_path = 'full/gasdata/NO2/TROPOMI_NO2_VCD_2019-07-07.nc'\n",
    "filling_dataset = nc4.Dataset(filling_dataset_path).variables[\"weights\"][:]"
   ]
  },
  {
   "cell_type": "code",
   "execution_count": 35,
   "metadata": {},
   "outputs": [
    {
     "output_type": "stream",
     "name": "stdout",
     "text": [
      "1566 4783\n0.3868075\n"
     ]
    }
   ],
   "source": [
    "# Quick search test\n",
    "search_index_x = 30.666666666666\n",
    "search_index_y = 117.84\n",
    "\n",
    "filling_x_step = 0.01\n",
    "filling_y_step = 0.01\n",
    "filling_x_st = 15.005\n",
    "filling_y_st = 70.005\n",
    "\n",
    "search_index_x = ((int) ((search_index_x - filling_x_st) / filling_x_step)) \n",
    "search_index_y = ((int) ((search_index_y - filling_y_st) / filling_y_step)) \n",
    "\n",
    "print(search_index_x, search_index_y)\n",
    "\n",
    "print(filling_dataset[search_index_x, search_index_y])"
   ]
  },
  {
   "cell_type": "code",
   "execution_count": null,
   "metadata": {},
   "outputs": [],
   "source": []
  }
 ]
}