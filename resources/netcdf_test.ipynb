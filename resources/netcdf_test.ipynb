{
 "metadata": {
  "language_info": {
   "codemirror_mode": {
    "name": "ipython",
    "version": 3
   },
   "file_extension": ".py",
   "mimetype": "text/x-python",
   "name": "python",
   "nbconvert_exporter": "python",
   "pygments_lexer": "ipython3",
   "version": "3.8.5-final"
  },
  "orig_nbformat": 2,
  "kernelspec": {
   "name": "python3",
   "display_name": "Python 3.8.5 64-bit ('venv')",
   "metadata": {
    "interpreter": {
     "hash": "56b48a58afbf0cd0e375a6be1a69584e5f696a47099457146ad3aeed8f729cf9"
    }
   }
  }
 },
 "nbformat": 4,
 "nbformat_minor": 2,
 "cells": [
  {
   "cell_type": "code",
   "execution_count": 8,
   "metadata": {},
   "outputs": [],
   "source": [
    "import netCDF4 as nc4\n",
    "import numpy as np\n",
    "import math\n",
    "\n",
    "datafile = 'full/gasdata/NO2/TROPOMI_NO2_VCD_2019-07-07.nc'\n",
    "dataset = nc4.Dataset(datafile)"
   ]
  },
  {
   "cell_type": "code",
   "execution_count": 9,
   "metadata": {},
   "outputs": [
    {
     "output_type": "stream",
     "name": "stdout",
     "text": [
      "<class 'netCDF4._netCDF4.Dataset'>\nroot group (NETCDF4 data model, file format HDF5):\n    dimensions(sizes): lat(3500), lon(7000)\n    variables(dimensions): float32 lat(lat), float32 lon(lon), float32 total_vcd(lat, lon), float32 tropo_vcd(lat, lon), float32 weights(lat, lon)\n    groups: \ndict_items([('lat', <class 'netCDF4._netCDF4.Dimension'>: name = 'lat', size = 3500), ('lon', <class 'netCDF4._netCDF4.Dimension'>: name = 'lon', size = 7000)])\n"
     ]
    }
   ],
   "source": [
    "print(dataset)\n",
    "print(dataset.dimensions.items())"
   ]
  },
  {
   "cell_type": "code",
   "execution_count": 14,
   "metadata": {},
   "outputs": [
    {
     "output_type": "stream",
     "name": "stdout",
     "text": [
      "[15.005 15.015 15.025 ... 49.975 49.985 49.995]\n",
      "\n",
      "[ 70.005  70.015  70.025 ... 139.975 139.985 139.995]\n",
      "\n",
      "[[0.20366111 0.20366111 0.20366111 ... 0.72663504 0.72663504 0.57926   ]\n",
      " [0.20366111 0.20366111 0.20366111 ... 0.72663504 0.57926    0.57926   ]\n",
      " [0.20366111 0.20366111 0.20366111 ... 0.72663504 0.57926    0.57926   ]\n",
      " ...\n",
      " [0.         0.         0.         ... 0.         0.         0.        ]\n",
      " [0.         0.         0.         ... 0.         0.         0.        ]\n",
      " [0.         0.         0.         ... 0.         0.         0.        ]]\n",
      "\n"
     ]
    }
   ],
   "source": [
    "print(dataset.variables[\"lat\"][:], end=\"\\n\\n\")\n",
    "print(dataset.variables[\"lon\"][:], end=\"\\n\\n\")\n",
    "print(dataset.variables[\"weights\"][:], end=\"\\n\\n\")"
   ]
  },
  {
   "cell_type": "code",
   "execution_count": 13,
   "metadata": {
    "tags": []
   },
   "outputs": [
    {
     "output_type": "stream",
     "name": "stdout",
     "text": [
      "(3500, 7000)\n"
     ]
    }
   ],
   "source": [
    "lat = dataset.variables[\"lat\"][:]\n",
    "lon = dataset.variables[\"lon\"][:]\n",
    "raw_data = dataset.variables[\"weights\"][:]\n",
    "\n",
    "print(raw_data.shape)\n"
   ]
  },
  {
   "cell_type": "code",
   "execution_count": null,
   "metadata": {},
   "outputs": [],
   "source": []
  }
 ]
}